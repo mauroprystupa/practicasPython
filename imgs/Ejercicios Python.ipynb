{
 "cells": [
  {
   "cell_type": "markdown",
   "id": "72bedcf2",
   "metadata": {},
   "source": [
    "## Ejercicios Python"
   ]
  },
  {
   "cell_type": "markdown",
   "id": "a6004888",
   "metadata": {},
   "source": [
    "1. Escribe un programa en Python que imprima los primeros 100 números enteros naturales (1...100)\n"
   ]
  },
  {
   "cell_type": "code",
   "execution_count": 8,
   "id": "4e0e89cb",
   "metadata": {},
   "outputs": [
    {
     "name": "stdout",
     "output_type": "stream",
     "text": [
      "1\n",
      "2\n",
      "3\n",
      "4\n",
      "5\n",
      "6\n",
      "7\n",
      "8\n",
      "9\n",
      "10\n",
      "11\n",
      "12\n",
      "13\n",
      "14\n",
      "15\n",
      "16\n",
      "17\n",
      "18\n",
      "19\n",
      "20\n",
      "21\n",
      "22\n",
      "23\n",
      "24\n",
      "25\n",
      "26\n",
      "27\n",
      "28\n",
      "29\n",
      "30\n",
      "31\n",
      "32\n",
      "33\n",
      "34\n",
      "35\n",
      "36\n",
      "37\n",
      "38\n",
      "39\n",
      "40\n",
      "41\n",
      "42\n",
      "43\n",
      "44\n",
      "45\n",
      "46\n",
      "47\n",
      "48\n",
      "49\n",
      "50\n",
      "51\n",
      "52\n",
      "53\n",
      "54\n",
      "55\n",
      "56\n",
      "57\n",
      "58\n",
      "59\n",
      "60\n",
      "61\n",
      "62\n",
      "63\n",
      "64\n",
      "65\n",
      "66\n",
      "67\n",
      "68\n",
      "69\n",
      "70\n",
      "71\n",
      "72\n",
      "73\n",
      "74\n",
      "75\n",
      "76\n",
      "77\n",
      "78\n",
      "79\n",
      "80\n",
      "81\n",
      "82\n",
      "83\n",
      "84\n",
      "85\n",
      "86\n",
      "87\n",
      "88\n",
      "89\n",
      "90\n",
      "91\n",
      "92\n",
      "93\n",
      "94\n",
      "95\n",
      "96\n",
      "97\n",
      "98\n",
      "99\n",
      "100\n"
     ]
    }
   ],
   "source": [
    "for i in range(1,101): #No incluye al 101\n",
    "    print(i)"
   ]
  },
  {
   "cell_type": "markdown",
   "id": "b785f3d4",
   "metadata": {},
   "source": [
    "2. Escribe un programa en Python que invierta una Lista"
   ]
  },
  {
   "cell_type": "markdown",
   "id": "38ac9a86",
   "metadata": {},
   "source": []
  },
  {
   "cell_type": "code",
   "execution_count": 2,
   "id": "9b4fe40b",
   "metadata": {},
   "outputs": [
    {
     "name": "stdout",
     "output_type": "stream",
     "text": [
      "[8, 7, 6, 5, 4, 3, 2, 1]\n"
     ]
    }
   ],
   "source": [
    "a = [1,2,3,4,5,6,7,8]\n",
    "a.reverse()\n",
    "print(a)"
   ]
  },
  {
   "cell_type": "markdown",
   "id": "23cac735",
   "metadata": {},
   "source": [
    "3. Escribe un programa en Python que muestre el primer y el último color de la siguiente lista. \n",
    "lista_de_colores = [\"Rojo\", \"Verde\", \"Blanco\" , \"Negro\"]"
   ]
  },
  {
   "cell_type": "code",
   "execution_count": 21,
   "id": "571b93c6",
   "metadata": {},
   "outputs": [
    {
     "name": "stdout",
     "output_type": "stream",
     "text": [
      "rojo negro\n"
     ]
    }
   ],
   "source": [
    "lista=['rojo','verde','blanco','negro']\n",
    "lista2=lista[0]+' '+lista[3]\n",
    "print(lista2)\n"
   ]
  },
  {
   "cell_type": "markdown",
   "id": "bf7b5792",
   "metadata": {},
   "source": [
    "4. Escribe un programa en Python que acepte un entero (n) y calcule el valor del cuadrado de n (n x n)"
   ]
  },
  {
   "cell_type": "code",
   "execution_count": 47,
   "id": "55c5f44e",
   "metadata": {},
   "outputs": [
    {
     "data": {
      "text/plain": [
       "64"
      ]
     },
     "execution_count": 47,
     "metadata": {},
     "output_type": "execute_result"
    }
   ],
   "source": [
    "#   n=5\n",
    "#   m=n*n\n",
    "#   print(m)\n",
    "\n",
    "\"\"\" lista = [8]\n",
    "[cuadrado(x) for x in lista] \"\"\"\n",
    "\n",
    "n=8\n",
    "cuadrado(n)"
   ]
  },
  {
   "cell_type": "markdown",
   "id": "1b61f345",
   "metadata": {},
   "source": [
    "5. Escriba un programa en Python para calcular el valor futuro de una cantidad principal especificada, un tipo de interés y un número de años.\n",
    "\n",
    "La fórmula del valor futuro con interés compuesto es VF = C(1 + r)^t\n",
    "\n",
    "FV = el valor futuro;\n",
    "\n",
    "C = el capital;\n",
    "\n",
    "r = el tipo de interés anual expresado en decimales;\n",
    "\n",
    "n = el número de veces que se pagan los intereses cada año;\n",
    "\n",
    "t = tiempo en años."
   ]
  },
  {
   "cell_type": "code",
   "execution_count": null,
   "id": "ca382fd2",
   "metadata": {},
   "outputs": [],
   "source": []
  },
  {
   "cell_type": "markdown",
   "id": "bc8da808",
   "metadata": {},
   "source": [
    "6. Escribe una función Python para calcular la suma de tres números dados, si los valores son iguales entonces devuelve el triple de su suma."
   ]
  },
  {
   "cell_type": "code",
   "execution_count": null,
   "id": "7879e5ec",
   "metadata": {},
   "outputs": [],
   "source": []
  },
  {
   "cell_type": "markdown",
   "id": "290ebc56",
   "metadata": {},
   "source": [
    "7. Escribe una función en Python para calcular el impuesto a las ganancias de un sueldo, considerando que se cobra un 35% sobre el excedente de sueldo mayor $150.000 bruto"
   ]
  },
  {
   "cell_type": "code",
   "execution_count": null,
   "id": "1730b18c",
   "metadata": {},
   "outputs": [],
   "source": []
  },
  {
   "cell_type": "markdown",
   "id": "47e67288",
   "metadata": {},
   "source": [
    "---"
   ]
  },
  {
   "cell_type": "markdown",
   "id": "75965c02",
   "metadata": {},
   "source": [
    "# Soluciones"
   ]
  },
  {
   "cell_type": "code",
   "execution_count": null,
   "id": "e50b13b9",
   "metadata": {
    "scrolled": true
   },
   "outputs": [],
   "source": [
    "#1\n",
    "\n",
    "for i in range(1,101): #No incluye al 101\n",
    "    print(i)"
   ]
  },
  {
   "cell_type": "code",
   "execution_count": 18,
   "id": "e59d1f51",
   "metadata": {},
   "outputs": [
    {
     "name": "stdout",
     "output_type": "stream",
     "text": [
      "aloH\n"
     ]
    }
   ],
   "source": [
    "#2\n",
    "string = \"Hola\"\n",
    "string_invertido = string [::-1] #[comienzo:final:paso], al omitir \"comienzo\" y \"final\" tomamos todo el string\n",
    "                                # y el -1 recorre en sentido contrario\n",
    "print(string_invertido)"
   ]
  },
  {
   "cell_type": "code",
   "execution_count": 19,
   "id": "c6b86cb2",
   "metadata": {},
   "outputs": [
    {
     "name": "stdout",
     "output_type": "stream",
     "text": [
      "Rojo\n",
      "Negro\n"
     ]
    }
   ],
   "source": [
    "#3\n",
    "lista_de_colores = [\"Rojo\", \"Verde\", \"Blanco\" , \"Negro\"]\n",
    "print(lista_de_colores[0])\n",
    "print(lista_de_colores[-1])"
   ]
  },
  {
   "cell_type": "code",
   "execution_count": null,
   "id": "2f7822e6",
   "metadata": {},
   "outputs": [],
   "source": [
    "#4\n",
    "def cuadrado(n):\n",
    "    return n*n\n"
   ]
  },
  {
   "cell_type": "code",
   "execution_count": null,
   "id": "d2d096ff",
   "metadata": {},
   "outputs": [],
   "source": [
    "#5\n",
    "capital = 10000\n",
    "interes = 17 * 0.01 # 17%\n",
    "anios = 7\n",
    "valor_futuro = capital*(1+interes) ** anios\n",
    "\n",
    "print(round(valor_futuro,2)) #Redondeamos a 2 cifras decimales\n",
    "\n",
    "#Tambien se podria crear una funcion. Ej: def valor_futuro(capital,interes,anios)"
   ]
  },
  {
   "cell_type": "code",
   "execution_count": null,
   "id": "9e3f45d6",
   "metadata": {},
   "outputs": [],
   "source": [
    "#6\n",
    "def suma_especial(x,y,z):\n",
    "    suma = x + y+ z #Definimos una variable interna de la funcion\n",
    "    \n",
    "    if x == y == z: #Equivalente a: x == y and y==z\n",
    "        return suma*3\n",
    "    else:\n",
    "        return suma\n",
    "\n",
    "suma_especial(4,3,3)"
   ]
  },
  {
   "cell_type": "code",
   "execution_count": null,
   "id": "8ed2468a",
   "metadata": {},
   "outputs": [],
   "source": [
    "#7\n",
    "def calculadora_ganancias(sueldo):\n",
    "    if sueldo<0:\n",
    "        print(\"Por favor ingrese un sueldo correcto\")\n",
    "    \n",
    "    elif sueldo<=150000:\n",
    "        return 0\n",
    "    \n",
    "    else:\n",
    "        excedente = sueldo - 150000\n",
    "        ganancias = excedente * 0.35\n",
    "        return ganancias"
   ]
  }
 ],
 "metadata": {
  "kernelspec": {
   "display_name": "Python 3",
   "language": "python",
   "name": "python3"
  },
  "language_info": {
   "codemirror_mode": {
    "name": "ipython",
    "version": 3
   },
   "file_extension": ".py",
   "mimetype": "text/x-python",
   "name": "python",
   "nbconvert_exporter": "python",
   "pygments_lexer": "ipython3",
   "version": "3.9.7"
  }
 },
 "nbformat": 4,
 "nbformat_minor": 5
}
