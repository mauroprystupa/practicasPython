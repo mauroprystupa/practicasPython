{
 "cells": [
  {
   "cell_type": "markdown",
   "id": "62994f9f",
   "metadata": {},
   "source": [
    "# Módulo 1"
   ]
  },
  {
   "cell_type": "markdown",
   "id": "09f55cbc",
   "metadata": {},
   "source": [
    "### Contenidos\n",
    "- [Introducción a Python](#Introducción-a-Python)\n",
    "- [Intérprete vs Script](#Intérprete-vs-Script)\n",
    "- [IPython y Notebook](#IPython-y-Notebook)\n",
    "- [Variables y Tipos de datos](#Variables-y-Tipos-de-datos)\n",
    "- [Listas](#Listas)\n",
    "- [Diccionarios](#Diccionarios)\n",
    "- [Sentencias Condicionales](#Sentencias-Condicionales)\n",
    "- [Bucles](#Bucles)\n",
    "- [Funciones](#Funciones)"
   ]
  },
  {
   "cell_type": "markdown",
   "id": "ccf7e7e5",
   "metadata": {},
   "source": [
    "# Introducción a Python\n",
    "------------------------\n",
    "\n",
    "¿Qué es **Python**?\n",
    "\n",
    "[**Python**](https://es.wikipedia.org/wiki/Python#Historia) es un lenguaje de programación interpretado, orientado a objetos, de alto nivel y con semántica dinámica.\n",
    "Python admite módulos y paquetes, lo que fomenta la modularidad del programa y la reutilización del código.\n",
    "\n",
    "<br>\n",
    "\n",
    "<br>\n",
    "\n",
    "**Breve historia sobre python:**\n",
    "\n",
    "\n",
    "El lenguaje fue desarrollado por [Guido Van Rossum](https://es.wikipedia.org/wiki/Guido_van_Rossum) mientras se encontraba trabajando en el Centro para las Matemáticas y la Informática (CWI) en los Países Bajos, en el año 1989, aunque su primera versión fue publicada en 1991.\n",
    "\n",
    "Python como lenguaje de programación hace un enfásis especial en su capacidad para ser leído por otros programadores. Esta aparante sencillez a la hora de leer el código le ha permitido gozar de una gran popularidad en general. Esta misma característica de simplicidad llevó a establecer una especie de filosofía al momento de desarrollar con este lenguaje:\n",
    "\n",
    "<br>\n",
    "\n",
    "<br>\n",
    "\n",
    "[**The Zen of Python**](https://www.python.org/dev/peps/pep-0020/)\n",
    "\n",
    "\n",
    "1.    Lo bonito es mejor que lo feo.\n",
    "2.    Lo explícito es mejor que lo implícito.\n",
    "3.    Lo simple es mejor que lo complejo.\n",
    "4.    Lo complejo es mejor que lo complicado.\n",
    "5.    Lo simple es mejor que lo anidado.\n",
    "6.    Lo disperso es mejor que lo denso.\n",
    "7.    La legibilidad es importante.\n",
    "8.    Los casos especiales no son tan especiales como para romper las reglas.\n",
    "9.    Aunque la practicidad gana a la pureza.\n",
    "10.    Los errores nunca deben pasar en silencio.\n",
    "11.    A no ser que se silencien explícitamente.\n",
    "12.    Ante la ambigüedad, rechace la tentación de adivinar.\n",
    "13.    Debe haber una -y preferiblemente sólo una- forma obvia de hacerlo.\n",
    "14.    Aunque esa manera puede no ser obvia al principio, a menos que seas holandés. (Referencia al lenguaje Perl, más complejo,        cuyo creador NO es holándes)\n",
    "15.    Ahora es mejor que nunca.\n",
    "16.    Aunque nunca es a menudo mejor que *ahora mismo*.\n",
    "17.    Si la implementación es difícil de explicar, es una mala idea.\n",
    "18.    Si la implementación es fácil de explicar, puede ser una buena idea.\n",
    "19.    Los \"namespaces\" son una gran idea -¡hagamos más de esos!\n"
   ]
  },
  {
   "cell_type": "markdown",
   "id": "f81cb418",
   "metadata": {},
   "source": [
    "# Intérprete vs Script\n",
    "\n",
    "Existen dos formas básicas de ejecutar código en Python:\n",
    "\n",
    "1. Ejecutar el intérprete de Python desde una terminal\n",
    "2. Escribir código en un fichero con extensión **.py** (conocido de forma común como script) y ejecutarlo en una terminal. \n",
    "\n",
    "<br>\n",
    "\n",
    "<br>\n",
    "\n",
    "Mostramos dos ejemplos básicos:\n",
    "\n",
    "Hacemos un print a la cadena de carácteres **Hola Havas**, acá estamos ejecutando código directamente desde la terminal\n",
    "\n",
    "<img src=\"imgs/terminal_1.png\" style=\"width: 750px;\">\n",
    "\n",
    "\n",
    "En este segundo ejemplo ejecutamos un fichero con extensión **.py** en el que ya está escrito el código\n",
    "\n",
    "<img src=\"imgs/terminal_2.png\" style=\"width: 750px;\">\n"
   ]
  },
  {
   "cell_type": "markdown",
   "id": "cdb1621d",
   "metadata": {},
   "source": [
    "# IPython y Notebook\n",
    "[IPython](http://ipython.org/) o Interactive Python es conjunto de herramientas que fueron desarrolladas con el objetivo de facilitar la programación y el procesamiento de datos en python. "
   ]
  },
  {
   "cell_type": "markdown",
   "id": "706bda17",
   "metadata": {},
   "source": [
    "### Anaconda\n",
    "\n",
    "[Anaconda](https://www.anaconda.com/) es una suite de código abierto que abarca una serie de aplicaciones, librerías y conceptos diseñados para el desarrollo de la ciencia de datos con Python."
   ]
  },
  {
   "cell_type": "markdown",
   "id": "e08f2a45",
   "metadata": {},
   "source": [
    "# Variables y Tipos de datos\n",
    "\n",
    "Existen 3 tipos de variables básicas en python:\n",
    "\n",
    "- Int: Integer o Entero\n",
    "- Float: Número decimal\n",
    "- String: Cadena de carácteres\n",
    "- Bool: Booleanos, True o False\n",
    "\n",
    "Además existen dos estructuras o colecciones de datos:\n",
    "\n",
    "- [Lista](https://docs.python.org/3/tutorial/datastructures.html#more-on-lists): list, implica una lista de elemenos con capacidad de ser mutable\n",
    "- [Diccionario](https://docs.python.org/3/tutorial/datastructures.html#dictionaries): conjunto de valores con una llave y un valor\n",
    "- [Tupla](https://docs.python.org/3/tutorial/datastructures.html#tuples-and-sequences): implica una lista de elemenos con capacidad de ser inmutable\n",
    "- [Set](https://docs.python.org/3/tutorial/datastructures.html#sets): es una lista de elementos sin duplicados"
   ]
  },
  {
   "cell_type": "markdown",
   "id": "e68fab8b",
   "metadata": {},
   "source": [
    "Para declarar una variable, se utiliza el símbolo **=**"
   ]
  },
  {
   "cell_type": "code",
   "execution_count": 1,
   "id": "2c89d21f",
   "metadata": {},
   "outputs": [
    {
     "name": "stdout",
     "output_type": "stream",
     "text": [
      "Hola Havas!\n"
     ]
    }
   ],
   "source": [
    "variable_1 = 'Hola Havas!'\n",
    "\n",
    "# Con la función print() es posible imprimir o visualizar el contenido de una variable ya definida\n",
    "print(variable_1)"
   ]
  },
  {
   "cell_type": "markdown",
   "id": "df1f129e",
   "metadata": {},
   "source": [
    "Con la función **type()** podemos saber el tipo de dato de una variable"
   ]
  },
  {
   "cell_type": "code",
   "execution_count": 2,
   "id": "a483d198",
   "metadata": {},
   "outputs": [
    {
     "data": {
      "text/plain": [
       "str"
      ]
     },
     "execution_count": 2,
     "metadata": {},
     "output_type": "execute_result"
    }
   ],
   "source": [
    "type(variable_1)"
   ]
  },
  {
   "cell_type": "code",
   "execution_count": 3,
   "id": "e2b20d41",
   "metadata": {},
   "outputs": [
    {
     "data": {
      "text/plain": [
       "int"
      ]
     },
     "execution_count": 3,
     "metadata": {},
     "output_type": "execute_result"
    }
   ],
   "source": [
    "variable_2 = 2\n",
    "type(variable_2)"
   ]
  },
  {
   "cell_type": "markdown",
   "id": "517671ff",
   "metadata": {},
   "source": [
    "### Variables Númericas"
   ]
  },
  {
   "cell_type": "markdown",
   "id": "8b55cf21",
   "metadata": {},
   "source": [
    "A continuación se presentan las operaciones básicas con python:\n",
    "\n",
    "<img src=\"imgs/Operaciones.png\" style=\"width: 550px;\">"
   ]
  },
  {
   "cell_type": "code",
   "execution_count": 10,
   "id": "2eb3fbec",
   "metadata": {},
   "outputs": [
    {
     "name": "stdout",
     "output_type": "stream",
     "text": [
      "Suma: 8\n",
      "Resta: 4\n",
      "División: 3.0\n",
      "Resto de la división: 0\n",
      "Pasamos a float: 6.0\n"
     ]
    }
   ],
   "source": [
    "x = 6\n",
    "y = 2\n",
    "\n",
    "print(\"Suma: {}\".format( x + y))\n",
    "print(\"Resta: {}\".format( x - y))\n",
    "print(\"División: {}\".format( x / y))\n",
    "print(\"Resto de la división: {}\".format( x % y))\n",
    "\n",
    "print(\"Pasamos a float: {}\".format(float(x)))"
   ]
  },
  {
   "cell_type": "code",
   "execution_count": 11,
   "id": "d3d600ab",
   "metadata": {},
   "outputs": [
    {
     "data": {
      "text/plain": [
       "8"
      ]
     },
     "execution_count": 11,
     "metadata": {},
     "output_type": "execute_result"
    }
   ],
   "source": [
    "x + y"
   ]
  },
  {
   "cell_type": "code",
   "execution_count": 20,
   "id": "8ddd3dc9",
   "metadata": {},
   "outputs": [],
   "source": [
    "x = 5\n",
    "y = 8"
   ]
  },
  {
   "cell_type": "markdown",
   "id": "6f3f6df4",
   "metadata": {},
   "source": [
    "Suma de las variables **x** + **y**"
   ]
  },
  {
   "cell_type": "code",
   "execution_count": 12,
   "id": "504fc2d9",
   "metadata": {},
   "outputs": [
    {
     "data": {
      "text/plain": [
       "8"
      ]
     },
     "execution_count": 12,
     "metadata": {},
     "output_type": "execute_result"
    }
   ],
   "source": [
    "x + y "
   ]
  },
  {
   "cell_type": "markdown",
   "id": "b01fd9e1",
   "metadata": {},
   "source": [
    "Multiplicación de las variables x + y"
   ]
  },
  {
   "cell_type": "code",
   "execution_count": 13,
   "id": "f466cadd",
   "metadata": {},
   "outputs": [
    {
     "data": {
      "text/plain": [
       "12"
      ]
     },
     "execution_count": 13,
     "metadata": {},
     "output_type": "execute_result"
    }
   ],
   "source": [
    "x * y"
   ]
  },
  {
   "cell_type": "markdown",
   "id": "0e0f160b",
   "metadata": {},
   "source": [
    "Elevamos **x** a la potencia **y**"
   ]
  },
  {
   "cell_type": "code",
   "execution_count": 14,
   "id": "9d7ad2ea",
   "metadata": {},
   "outputs": [
    {
     "data": {
      "text/plain": [
       "36"
      ]
     },
     "execution_count": 14,
     "metadata": {},
     "output_type": "execute_result"
    }
   ],
   "source": [
    "x ** y"
   ]
  },
  {
   "cell_type": "markdown",
   "id": "083bd9e8",
   "metadata": {},
   "source": [
    "Dividimos **x** entre **y**"
   ]
  },
  {
   "cell_type": "code",
   "execution_count": 15,
   "id": "2e111147",
   "metadata": {},
   "outputs": [
    {
     "data": {
      "text/plain": [
       "3.0"
      ]
     },
     "execution_count": 15,
     "metadata": {},
     "output_type": "execute_result"
    }
   ],
   "source": [
    "x / y"
   ]
  },
  {
   "cell_type": "markdown",
   "id": "15a76d77",
   "metadata": {},
   "source": [
    "Nos quedamos con el resto de la división entre **x** & **y** "
   ]
  },
  {
   "cell_type": "code",
   "execution_count": 16,
   "id": "3a9fb6cc",
   "metadata": {},
   "outputs": [
    {
     "data": {
      "text/plain": [
       "0"
      ]
     },
     "execution_count": 16,
     "metadata": {},
     "output_type": "execute_result"
    }
   ],
   "source": [
    "x % y"
   ]
  },
  {
   "cell_type": "code",
   "execution_count": null,
   "id": "4d79793c",
   "metadata": {},
   "outputs": [],
   "source": []
  },
  {
   "cell_type": "markdown",
   "id": "16eaf16c",
   "metadata": {},
   "source": [
    "### Variables Strings"
   ]
  },
  {
   "cell_type": "code",
   "execution_count": 17,
   "id": "385e92cd",
   "metadata": {},
   "outputs": [
    {
     "name": "stdout",
     "output_type": "stream",
     "text": [
      "Hola, esta variable es un string\n"
     ]
    }
   ],
   "source": [
    "string = \"Hola, esta variable es un string\"\n",
    "print(string)"
   ]
  },
  {
   "cell_type": "markdown",
   "id": "7ff9820a",
   "metadata": {},
   "source": [
    "Podemos sumar dos strings "
   ]
  },
  {
   "cell_type": "code",
   "execution_count": 18,
   "id": "8da54e66",
   "metadata": {},
   "outputs": [
    {
     "name": "stdout",
     "output_type": "stream",
     "text": [
      "Hola, esta variable es un string y Esto también es un string\n"
     ]
    }
   ],
   "source": [
    "string_2 = \"Esto también es un string\"\n",
    "\n",
    "print(string + \" y \" + string_2)"
   ]
  },
  {
   "cell_type": "markdown",
   "id": "f1caef5a",
   "metadata": {},
   "source": [
    "Podemos multiplicar strings"
   ]
  },
  {
   "cell_type": "code",
   "execution_count": 6,
   "id": "c4d7c887",
   "metadata": {},
   "outputs": [
    {
     "name": "stdout",
     "output_type": "stream",
     "text": [
      "Hola!Hola!Hola!Hola!Hola!\n"
     ]
    }
   ],
   "source": [
    "string_3 = \"Hola!\"\n",
    "print(string_3 * 5)"
   ]
  },
  {
   "cell_type": "markdown",
   "id": "6c0a9fd4",
   "metadata": {},
   "source": [
    "Podemos acceder al primer elemento del string con \"**[0]**\""
   ]
  },
  {
   "cell_type": "code",
   "execution_count": 7,
   "id": "6fceb3f5",
   "metadata": {},
   "outputs": [
    {
     "data": {
      "text/plain": [
       "'H'"
      ]
     },
     "execution_count": 7,
     "metadata": {},
     "output_type": "execute_result"
    }
   ],
   "source": [
    "string_3[0]"
   ]
  },
  {
   "cell_type": "markdown",
   "id": "0747a80e",
   "metadata": {},
   "source": [
    "Podemos acceder al segundo elemento del string con \"**[1]**\""
   ]
  },
  {
   "cell_type": "code",
   "execution_count": 9,
   "id": "c84a39fe",
   "metadata": {},
   "outputs": [
    {
     "data": {
      "text/plain": [
       "'o'"
      ]
     },
     "execution_count": 9,
     "metadata": {},
     "output_type": "execute_result"
    }
   ],
   "source": [
    "string_3[1]"
   ]
  },
  {
   "cell_type": "markdown",
   "id": "aeb54007",
   "metadata": {},
   "source": [
    "Podemos acceder desde el primer elemento al noveno del string con \"**[0:10]**\""
   ]
  },
  {
   "cell_type": "code",
   "execution_count": 24,
   "id": "f3380756",
   "metadata": {},
   "outputs": [
    {
     "data": {
      "text/plain": [
       "', esta'"
      ]
     },
     "execution_count": 24,
     "metadata": {},
     "output_type": "execute_result"
    }
   ],
   "source": [
    "string[4:10]"
   ]
  },
  {
   "cell_type": "markdown",
   "id": "8fe0c249",
   "metadata": {},
   "source": [
    "Podemos poner todas las lentras en mayúscula"
   ]
  },
  {
   "cell_type": "code",
   "execution_count": 25,
   "id": "d94fcc3d",
   "metadata": {},
   "outputs": [
    {
     "data": {
      "text/plain": [
       "'HOLA, ESTA VARIABLE ES UN STRING'"
      ]
     },
     "execution_count": 25,
     "metadata": {},
     "output_type": "execute_result"
    }
   ],
   "source": [
    "string.upper()"
   ]
  },
  {
   "cell_type": "markdown",
   "id": "0f04d85f",
   "metadata": {},
   "source": [
    "ó en minúscula"
   ]
  },
  {
   "cell_type": "code",
   "execution_count": 26,
   "id": "e960c8f2",
   "metadata": {},
   "outputs": [
    {
     "name": "stdout",
     "output_type": "stream",
     "text": [
      "hola, esta variable es un string\n"
     ]
    }
   ],
   "source": [
    "print(string.lower())"
   ]
  },
  {
   "cell_type": "markdown",
   "id": "835bf448",
   "metadata": {},
   "source": [
    "En mayúsculas solo las primeras letras"
   ]
  },
  {
   "cell_type": "code",
   "execution_count": 27,
   "id": "c9c8f585",
   "metadata": {},
   "outputs": [
    {
     "data": {
      "text/plain": [
       "'Hola, Esta Variable Es Un String'"
      ]
     },
     "execution_count": 27,
     "metadata": {},
     "output_type": "execute_result"
    }
   ],
   "source": [
    "string.title()"
   ]
  },
  {
   "cell_type": "markdown",
   "id": "cb50393b",
   "metadata": {},
   "source": [
    "Podemos reemplazar un string por otro. En este caso \"**Hola**\" será reemplazado por \"**Hellow**\""
   ]
  },
  {
   "cell_type": "code",
   "execution_count": 28,
   "id": "5bb4dab6",
   "metadata": {},
   "outputs": [
    {
     "data": {
      "text/plain": [
       "'Hellow, esta variable es un string'"
      ]
     },
     "execution_count": 28,
     "metadata": {},
     "output_type": "execute_result"
    }
   ],
   "source": [
    "string.replace('Hola', 'Hellow')"
   ]
  },
  {
   "cell_type": "markdown",
   "id": "c18eff8b",
   "metadata": {},
   "source": [
    "### Variables Booleanas\n"
   ]
  },
  {
   "cell_type": "code",
   "execution_count": 29,
   "id": "ede3b487",
   "metadata": {},
   "outputs": [
    {
     "name": "stdout",
     "output_type": "stream",
     "text": [
      "False\n",
      "True\n"
     ]
    }
   ],
   "source": [
    "a = True\n",
    "b = False\n",
    "\n",
    "print(a == b)\n",
    "print(a != b)"
   ]
  },
  {
   "cell_type": "code",
   "execution_count": 30,
   "id": "c5076479",
   "metadata": {},
   "outputs": [
    {
     "name": "stdout",
     "output_type": "stream",
     "text": [
      "False\n",
      "False\n",
      "True\n",
      "True\n"
     ]
    }
   ],
   "source": [
    "a = 1\n",
    "b = 2\n",
    "\n",
    "print(a > b)\n",
    "print(a >= b)\n",
    "print(a < b)\n",
    "print(a <= b)"
   ]
  },
  {
   "cell_type": "markdown",
   "id": "09387c18",
   "metadata": {},
   "source": [
    "***"
   ]
  },
  {
   "cell_type": "markdown",
   "id": "527c62d3",
   "metadata": {},
   "source": [
    "Python dispone de varias estructuras de datos que permiten almacenar colecciones de valores. Cada una de estas estructuras tiene unas propiedades diferentes y cada una es útil para solucionar diferentes problemas las dos estructuras básicas son las **listas** y los **diccionarios**"
   ]
  },
  {
   "cell_type": "markdown",
   "id": "7e9cdbfe",
   "metadata": {},
   "source": [
    "# Listas"
   ]
  },
  {
   "cell_type": "markdown",
   "id": "9b20bcbc",
   "metadata": {},
   "source": [
    "\n",
    "Una **lista** en Python es una colección de valores, posiblemente **heterogéneos**. Las listas se pueden modificar (son **mutables**), y permiten almacenar elementos **duplicados**.\n",
    "\n",
    "Los elementos de una lista se encuentran ordenados, de tal manera que el primer elemento se encuentra indexado con el 0, el segundo con el 1, etc."
   ]
  },
  {
   "cell_type": "code",
   "execution_count": 38,
   "id": "e39457e2",
   "metadata": {},
   "outputs": [
    {
     "name": "stdout",
     "output_type": "stream",
     "text": [
      "Esto es una lista vacía:   []\n"
     ]
    }
   ],
   "source": [
    "lista1 = list() # o lista1=[]\n",
    "\n",
    "print(\"Esto es una lista vacía:  \",lista1)"
   ]
  },
  {
   "cell_type": "markdown",
   "id": "cfe95f88",
   "metadata": {},
   "source": [
    "En una lista se pueden almacenar valores de diferentes tipos"
   ]
  },
  {
   "cell_type": "code",
   "execution_count": 10,
   "id": "708556d1",
   "metadata": {},
   "outputs": [
    {
     "name": "stdout",
     "output_type": "stream",
     "text": [
      "Esto es una lista con valores:  ['Juan', 2, 3.14, 'Pedro', 'Juan']\n"
     ]
    }
   ],
   "source": [
    "lista2 = ['Juan', 2, 3.14,'Pedro', 'Juan']\n",
    "\n",
    "print(\"Esto es una lista con valores: \",lista2)"
   ]
  },
  {
   "cell_type": "markdown",
   "id": "d982c09c",
   "metadata": {},
   "source": [
    "Para acceder a un elemento se usa: lista[indice]. El indice 0 contiene al primer objeto"
   ]
  },
  {
   "cell_type": "code",
   "execution_count": 11,
   "id": "80174344",
   "metadata": {},
   "outputs": [
    {
     "name": "stdout",
     "output_type": "stream",
     "text": [
      "El primer elemento de la lista es:  Juan\n",
      "El segundo elemento de la lista es:  2\n",
      "El tercer elemento de la lista es:  3.14\n"
     ]
    }
   ],
   "source": [
    "print(\"El primer elemento de la lista es: \",lista2[0])\n",
    "print(\"El segundo elemento de la lista es: \",lista2[1])\n",
    "print(\"El tercer elemento de la lista es: \",lista2[2])"
   ]
  },
  {
   "cell_type": "markdown",
   "id": "82e610ef",
   "metadata": {},
   "source": [
    "Eliminamos a Juan de la lista (al primer \"Juan\" que encuentre)"
   ]
  },
  {
   "cell_type": "code",
   "execution_count": 12,
   "id": "976bbddb",
   "metadata": {},
   "outputs": [
    {
     "name": "stdout",
     "output_type": "stream",
     "text": [
      "Lista Original: ['Juan', 2, 3.14, 'Pedro', 'Juan']\n",
      "Quitamos a un Juan de la lista:  [2, 3.14, 'Pedro', 'Juan']\n"
     ]
    }
   ],
   "source": [
    "print(\"Lista Original: {}\".format(lista2))\n",
    "lista2.remove('Juan')\n",
    "print(\"Quitamos a un Juan de la lista: \", lista2)"
   ]
  },
  {
   "cell_type": "markdown",
   "id": "398dff17",
   "metadata": {},
   "source": [
    "Haremos una revisión general de los **métodos** asociados a las **listas**:\n",
    "\n",
    "Definimos una lista con el nombre **lista**"
   ]
  },
  {
   "cell_type": "code",
   "execution_count": 42,
   "id": "02defa21",
   "metadata": {},
   "outputs": [
    {
     "name": "stdout",
     "output_type": "stream",
     "text": [
      "Esta es mi lista:  [1, 2, 2, 2, 3, 4]\n"
     ]
    }
   ],
   "source": [
    "lista = [1,2,2,2,3,4]\n",
    "print(\"Esta es mi lista: \", lista)"
   ]
  },
  {
   "cell_type": "markdown",
   "id": "3f5134d9",
   "metadata": {},
   "source": [
    "Podemos re ordenarla a la inversa con el método **.reverse()**"
   ]
  },
  {
   "cell_type": "code",
   "execution_count": 43,
   "id": "aa1a998a",
   "metadata": {},
   "outputs": [
    {
     "name": "stdout",
     "output_type": "stream",
     "text": [
      "Lista re ordenada:  [4, 3, 2, 2, 2, 1]\n"
     ]
    }
   ],
   "source": [
    "lista.reverse()\n",
    "print(\"Lista re ordenada: \",lista)"
   ]
  },
  {
   "cell_type": "markdown",
   "id": "450f4a3e",
   "metadata": {},
   "source": [
    "Podemos agregarle un elemento con el método **.append()**"
   ]
  },
  {
   "cell_type": "code",
   "execution_count": 44,
   "id": "5f6627a4",
   "metadata": {},
   "outputs": [
    {
     "name": "stdout",
     "output_type": "stream",
     "text": [
      "Lista agregando un elemeno:  [4, 3, 2, 2, 2, 1, 10]\n"
     ]
    }
   ],
   "source": [
    "lista.append(10)\n",
    "print(\"Lista agregando un elemeno: \",lista)"
   ]
  },
  {
   "cell_type": "markdown",
   "id": "d866828f",
   "metadata": {},
   "source": [
    "También podemos agregar un elemento definiendo la posición con el método **.insert()**.\n",
    "\n",
    "Recordemos que en python se empieza a contar desde el cero \"0\", por lo tanto agregar un elemento en la posición cero sería en la primera:"
   ]
  },
  {
   "cell_type": "code",
   "execution_count": 45,
   "id": "0ef88d32",
   "metadata": {},
   "outputs": [
    {
     "name": "stdout",
     "output_type": "stream",
     "text": [
      "Agregamos el número 99 en la primera posición:  [99, 4, 3, 2, 2, 2, 1, 10]\n"
     ]
    }
   ],
   "source": [
    "lista.insert(0,99)\n",
    "print(\"Agregamos el número 99 en la primera posición: \", lista)"
   ]
  },
  {
   "cell_type": "markdown",
   "id": "fd51c85f",
   "metadata": {},
   "source": [
    "Podemos sumar dos listas:"
   ]
  },
  {
   "cell_type": "code",
   "execution_count": 46,
   "id": "dec45974",
   "metadata": {},
   "outputs": [
    {
     "data": {
      "text/plain": [
       "[99, 4, 3, 2, 2, 2, 1, 10, 66, 22]"
      ]
     },
     "execution_count": 46,
     "metadata": {},
     "output_type": "execute_result"
    }
   ],
   "source": [
    "lista_2 = [66, 22]\n",
    "\n",
    "lista + lista_2"
   ]
  },
  {
   "cell_type": "markdown",
   "id": "498d71b7",
   "metadata": {},
   "source": [
    "Podemos modificar el primer elemento de una lista:\n"
   ]
  },
  {
   "cell_type": "code",
   "execution_count": 47,
   "id": "c0bb3a0d",
   "metadata": {},
   "outputs": [
    {
     "data": {
      "text/plain": [
       "[0, 4, 3, 2, 2, 2, 1, 10]"
      ]
     },
     "execution_count": 47,
     "metadata": {},
     "output_type": "execute_result"
    }
   ],
   "source": [
    "lista[0] = 0\n",
    "lista"
   ]
  },
  {
   "cell_type": "markdown",
   "id": "da202b8f",
   "metadata": {},
   "source": [
    "Podemos ordenar la lista:"
   ]
  },
  {
   "cell_type": "code",
   "execution_count": 48,
   "id": "99043205",
   "metadata": {},
   "outputs": [
    {
     "data": {
      "text/plain": [
       "[0, 1, 2, 2, 2, 3, 4, 10]"
      ]
     },
     "execution_count": 48,
     "metadata": {},
     "output_type": "execute_result"
    }
   ],
   "source": [
    "sorted(lista)"
   ]
  },
  {
   "cell_type": "markdown",
   "id": "e2f7a5a9",
   "metadata": {},
   "source": [
    "**sorted** solo funciona con listas que tienen el mismo tipo de dato"
   ]
  },
  {
   "cell_type": "code",
   "execution_count": 14,
   "id": "f27afa60",
   "metadata": {},
   "outputs": [
    {
     "data": {
      "text/plain": [
       "['1', '2', '3', 'Agustin', 'Victor']"
      ]
     },
     "execution_count": 14,
     "metadata": {},
     "output_type": "execute_result"
    }
   ],
   "source": [
    "lista_3 = [\"Victor\", 3, 2, 1, \"Agustin\"]\n",
    "sorted(lista_3)"
   ]
  },
  {
   "cell_type": "markdown",
   "id": "fddae04c",
   "metadata": {},
   "source": [
    "Si las lista es de str se ordena alfabéticamente"
   ]
  },
  {
   "cell_type": "code",
   "execution_count": 16,
   "id": "2bdaace2",
   "metadata": {},
   "outputs": [
    {
     "data": {
      "text/plain": [
       "['Agustin', 'Tatiana', 'Victor']"
      ]
     },
     "execution_count": 16,
     "metadata": {},
     "output_type": "execute_result"
    }
   ],
   "source": [
    "lista_3 = [\"Victor\", \"Tatiana\", \"Agustin\"]\n",
    "sorted(lista_3)"
   ]
  },
  {
   "cell_type": "markdown",
   "id": "b7b7f29b",
   "metadata": {},
   "source": [
    "Podemos quedarnos con una lista sin duplicados pasando la **lista** a **set**"
   ]
  },
  {
   "cell_type": "code",
   "execution_count": 20,
   "id": "2539b0bd",
   "metadata": {},
   "outputs": [],
   "source": [
    "b = set(lista_3)"
   ]
  },
  {
   "cell_type": "code",
   "execution_count": 51,
   "id": "67850c3b",
   "metadata": {},
   "outputs": [
    {
     "data": {
      "text/plain": [
       "[0, 1, 2, 3, 4, 10]"
      ]
     },
     "execution_count": 51,
     "metadata": {},
     "output_type": "execute_result"
    }
   ],
   "source": [
    "list(set(lista))"
   ]
  },
  {
   "cell_type": "markdown",
   "id": "2c8fe72d",
   "metadata": {},
   "source": [
    "Otras funciones para las listas:"
   ]
  },
  {
   "cell_type": "markdown",
   "id": "4fff4a9e",
   "metadata": {},
   "source": [
    "**min** trae el valor mínimo en la lista"
   ]
  },
  {
   "cell_type": "code",
   "execution_count": 52,
   "id": "1510aee4",
   "metadata": {},
   "outputs": [
    {
     "data": {
      "text/plain": [
       "0"
      ]
     },
     "execution_count": 52,
     "metadata": {},
     "output_type": "execute_result"
    }
   ],
   "source": [
    "min(lista)"
   ]
  },
  {
   "cell_type": "markdown",
   "id": "df2d1df8",
   "metadata": {},
   "source": [
    "**max** trae el mayor valor"
   ]
  },
  {
   "cell_type": "code",
   "execution_count": 53,
   "id": "8f11cdd6",
   "metadata": {},
   "outputs": [
    {
     "data": {
      "text/plain": [
       "10"
      ]
     },
     "execution_count": 53,
     "metadata": {},
     "output_type": "execute_result"
    }
   ],
   "source": [
    "max(lista)"
   ]
  },
  {
   "cell_type": "markdown",
   "id": "8fbc0bc4",
   "metadata": {},
   "source": [
    "Para sumar todos los elementos"
   ]
  },
  {
   "cell_type": "code",
   "execution_count": 54,
   "id": "4ba3cd12",
   "metadata": {},
   "outputs": [
    {
     "data": {
      "text/plain": [
       "24"
      ]
     },
     "execution_count": 54,
     "metadata": {},
     "output_type": "execute_result"
    }
   ],
   "source": [
    "sum(lista)"
   ]
  },
  {
   "cell_type": "markdown",
   "id": "64cf4adf",
   "metadata": {},
   "source": [
    "Para saber la cantidad de elementos"
   ]
  },
  {
   "cell_type": "code",
   "execution_count": 55,
   "id": "94564796",
   "metadata": {},
   "outputs": [
    {
     "data": {
      "text/plain": [
       "8"
      ]
     },
     "execution_count": 55,
     "metadata": {},
     "output_type": "execute_result"
    }
   ],
   "source": [
    "len(lista)"
   ]
  },
  {
   "cell_type": "code",
   "execution_count": 56,
   "id": "798a2bfd",
   "metadata": {},
   "outputs": [
    {
     "data": {
      "text/plain": [
       "3.0"
      ]
     },
     "execution_count": 56,
     "metadata": {},
     "output_type": "execute_result"
    }
   ],
   "source": [
    "sum(lista) / len(lista)"
   ]
  },
  {
   "cell_type": "code",
   "execution_count": 23,
   "id": "441cef76",
   "metadata": {},
   "outputs": [],
   "source": [
    "lista = [1,2,3,4,5]"
   ]
  },
  {
   "cell_type": "code",
   "execution_count": 24,
   "id": "d6955645",
   "metadata": {},
   "outputs": [],
   "source": [
    "def cuadrado(x):\n",
    "    return x*x"
   ]
  },
  {
   "cell_type": "code",
   "execution_count": 26,
   "id": "0846a98c",
   "metadata": {},
   "outputs": [
    {
     "data": {
      "text/plain": [
       "[1, 4, 9, 16, 25]"
      ]
     },
     "execution_count": 26,
     "metadata": {},
     "output_type": "execute_result"
    }
   ],
   "source": [
    "#map\n",
    "\n",
    "#List Comprehension\n",
    "\n",
    "[cuadrado(x) for x in lista]"
   ]
  },
  {
   "cell_type": "code",
   "execution_count": 27,
   "id": "4ea33e28",
   "metadata": {},
   "outputs": [
    {
     "data": {
      "text/plain": [
       "[3, 6, 9, 12, 15]"
      ]
     },
     "execution_count": 27,
     "metadata": {},
     "output_type": "execute_result"
    }
   ],
   "source": [
    "[x*3 for x in lista]"
   ]
  },
  {
   "cell_type": "code",
   "execution_count": null,
   "id": "a6064c25",
   "metadata": {},
   "outputs": [],
   "source": []
  },
  {
   "cell_type": "code",
   "execution_count": 28,
   "id": "e9fceeb5",
   "metadata": {},
   "outputs": [
    {
     "data": {
      "text/plain": [
       "[2, 4]"
      ]
     },
     "execution_count": 28,
     "metadata": {},
     "output_type": "execute_result"
    }
   ],
   "source": [
    "#filter\n",
    "[x for x in lista if x%2==0]"
   ]
  },
  {
   "cell_type": "markdown",
   "id": "901a7c96",
   "metadata": {},
   "source": [
    "# Diccionarios"
   ]
  },
  {
   "cell_type": "markdown",
   "id": "cda6a5d8",
   "metadata": {},
   "source": [
    "Los diccionarios representan una colección de datos de pares clave-valor, permiten operaciones básicas de inserción, modificación y eliminación, también permiten recuperar los datos almacenados a través de la clave."
   ]
  },
  {
   "cell_type": "markdown",
   "id": "8fb0be04",
   "metadata": {},
   "source": [
    "Diccionario vacío"
   ]
  },
  {
   "cell_type": "code",
   "execution_count": 57,
   "id": "42c05eec",
   "metadata": {},
   "outputs": [
    {
     "data": {
      "text/plain": [
       "{}"
      ]
     },
     "execution_count": 57,
     "metadata": {},
     "output_type": "execute_result"
    }
   ],
   "source": [
    "diccionario = {}\n",
    "diccionario = dict()"
   ]
  },
  {
   "cell_type": "code",
   "execution_count": 33,
   "id": "51205866",
   "metadata": {},
   "outputs": [
    {
     "data": {
      "text/plain": [
       "{1: ['Buenos Aires', 'Argentina'], 2: 'Caracas', 3: 'Quito', 4: 'La Paz'}"
      ]
     },
     "execution_count": 33,
     "metadata": {},
     "output_type": "execute_result"
    }
   ],
   "source": [
    "ciudades =  {1:[\"Buenos Aires\",\"Argentina\"], \n",
    "             2:\"Caracas\",\n",
    "             3:\"Quito\",\n",
    "             4: \"La Paz\",\n",
    "            }\n",
    "\n",
    "ciudades"
   ]
  },
  {
   "cell_type": "markdown",
   "id": "1560669f",
   "metadata": {},
   "source": [
    "Para acceder a las llaves"
   ]
  },
  {
   "cell_type": "code",
   "execution_count": 35,
   "id": "736d4ebf",
   "metadata": {},
   "outputs": [
    {
     "data": {
      "text/plain": [
       "'Buenos Aires'"
      ]
     },
     "execution_count": 35,
     "metadata": {},
     "output_type": "execute_result"
    }
   ],
   "source": [
    "ciudades[1][0]"
   ]
  },
  {
   "cell_type": "code",
   "execution_count": 59,
   "id": "7b36b378",
   "metadata": {},
   "outputs": [
    {
     "data": {
      "text/plain": [
       "dict_keys([1, 2, 3, 4])"
      ]
     },
     "execution_count": 59,
     "metadata": {},
     "output_type": "execute_result"
    }
   ],
   "source": [
    "ciudades.keys()"
   ]
  },
  {
   "cell_type": "code",
   "execution_count": 60,
   "id": "62e32740",
   "metadata": {
    "scrolled": true
   },
   "outputs": [
    {
     "data": {
      "text/plain": [
       "[1, 2, 3, 4]"
      ]
     },
     "execution_count": 60,
     "metadata": {},
     "output_type": "execute_result"
    }
   ],
   "source": [
    "list(ciudades)"
   ]
  },
  {
   "cell_type": "markdown",
   "id": "f2c667a7",
   "metadata": {},
   "source": [
    "Para acceder a los valores asociados a las llaves"
   ]
  },
  {
   "cell_type": "code",
   "execution_count": 61,
   "id": "fd8d5b6d",
   "metadata": {},
   "outputs": [
    {
     "data": {
      "text/plain": [
       "dict_values(['Buenos Aires', 'Caracas', 'Quito', 'La Paz'])"
      ]
     },
     "execution_count": 61,
     "metadata": {},
     "output_type": "execute_result"
    }
   ],
   "source": [
    "ciudades.values()"
   ]
  },
  {
   "cell_type": "markdown",
   "id": "3c1a5930",
   "metadata": {},
   "source": [
    "Para acceder a los pares llave-valor:"
   ]
  },
  {
   "cell_type": "code",
   "execution_count": 62,
   "id": "b0451cf7",
   "metadata": {},
   "outputs": [
    {
     "data": {
      "text/plain": [
       "dict_items([(1, 'Buenos Aires'), (2, 'Caracas'), (3, 'Quito'), (4, 'La Paz')])"
      ]
     },
     "execution_count": 62,
     "metadata": {},
     "output_type": "execute_result"
    }
   ],
   "source": [
    "ciudades.items()"
   ]
  },
  {
   "cell_type": "code",
   "execution_count": 63,
   "id": "aeb2ac4b",
   "metadata": {},
   "outputs": [
    {
     "data": {
      "text/plain": [
       "4"
      ]
     },
     "execution_count": 63,
     "metadata": {},
     "output_type": "execute_result"
    }
   ],
   "source": [
    "len(ciudades)"
   ]
  },
  {
   "cell_type": "code",
   "execution_count": 64,
   "id": "74818ac1",
   "metadata": {},
   "outputs": [],
   "source": [
    "persona = {\n",
    "    'first_name': 'Eric',\n",
    "    'last_name': 'Martinez',\n",
    "    'age': 43,\n",
    "    'city': 'CABA'\n",
    "}"
   ]
  },
  {
   "cell_type": "code",
   "execution_count": 65,
   "id": "d736313d",
   "metadata": {},
   "outputs": [
    {
     "name": "stdout",
     "output_type": "stream",
     "text": [
      "Eric\n"
     ]
    }
   ],
   "source": [
    "print(persona['first_name'])"
   ]
  },
  {
   "cell_type": "code",
   "execution_count": 66,
   "id": "8579eefb",
   "metadata": {},
   "outputs": [
    {
     "name": "stdout",
     "output_type": "stream",
     "text": [
      "Eric\n",
      "\n",
      "\n",
      "Martinez\n",
      "\n",
      "\n",
      "43\n",
      "\n",
      "\n",
      "CABA\n"
     ]
    }
   ],
   "source": [
    "print(persona['first_name'])\n",
    "print(\"\\n\")\n",
    "print(persona['last_name'])\n",
    "print(\"\\n\")\n",
    "print(persona['age'])\n",
    "print(\"\\n\")\n",
    "print(persona['city'])"
   ]
  },
  {
   "cell_type": "markdown",
   "id": "8b6e6952",
   "metadata": {},
   "source": [
    "Una ventaja de los diccionarios es la posibilidad de contener otros diccionarios. Esto permite tener en una variable, una estructura de datos más compleja:"
   ]
  },
  {
   "cell_type": "code",
   "execution_count": 67,
   "id": "2025a697",
   "metadata": {},
   "outputs": [],
   "source": [
    "paises = {\n",
    "    \n",
    "    \"Argentina\":{\"Continente\": \"América\", \"Capital\": \"Buenos Aires\"},\n",
    "    \"Brasil\":{\"Continente\": \"América\", \"Capital\":\"San Pablo\"},\n",
    "    \"España\":{\"Continente\": \"Europa\", \"Capital\":\"Madrid\"}\n",
    "}"
   ]
  },
  {
   "cell_type": "code",
   "execution_count": 68,
   "id": "9ded77e0",
   "metadata": {},
   "outputs": [
    {
     "name": "stdout",
     "output_type": "stream",
     "text": [
      "{'Continente': 'América', 'Capital': 'Buenos Aires'}\n"
     ]
    }
   ],
   "source": [
    "print(paises[\"Argentina\"])"
   ]
  },
  {
   "cell_type": "code",
   "execution_count": 69,
   "id": "a347c57a",
   "metadata": {},
   "outputs": [
    {
     "name": "stdout",
     "output_type": "stream",
     "text": [
      "Buenos Aires\n"
     ]
    }
   ],
   "source": [
    "print(paises[\"Argentina\"][\"Capital\"])"
   ]
  },
  {
   "cell_type": "code",
   "execution_count": 70,
   "id": "039e7573",
   "metadata": {},
   "outputs": [
    {
     "name": "stdout",
     "output_type": "stream",
     "text": [
      "Madrid\n"
     ]
    }
   ],
   "source": [
    "print(paises[\"España\"][\"Capital\"])"
   ]
  },
  {
   "cell_type": "code",
   "execution_count": null,
   "id": "e29ffd2f",
   "metadata": {},
   "outputs": [],
   "source": []
  },
  {
   "cell_type": "markdown",
   "id": "3c2a078e",
   "metadata": {},
   "source": [
    "Existen una serie de instrucciones en Python que nos permiten alterar el flujo secuencial de un programa. \n",
    "Tenemos las **Sentencias Condicionales** con **if-elif-else** y las estructuras de controlo iterativas o bucles con el **for** y el **while**"
   ]
  },
  {
   "cell_type": "markdown",
   "id": "5b99cbc3",
   "metadata": {},
   "source": [
    "# Sentencias Condicionales"
   ]
  },
  {
   "cell_type": "markdown",
   "id": "50817ea3",
   "metadata": {},
   "source": [
    "### If - Elif -Else\n",
    "<br>\n",
    "\n",
    "<br/>\n",
    "\n",
    "La instrucción **if** permite ejecutar un bloque de código si se cumple una condición. Si dicha condición no se cumple, se pueden comprobar condiciones adicionales con **elif** o bien se puede ejecutar un segundo bloque de código especificando la instrucción **else**"
   ]
  },
  {
   "cell_type": "code",
   "execution_count": 71,
   "id": "b4203c48",
   "metadata": {},
   "outputs": [
    {
     "name": "stdout",
     "output_type": "stream",
     "text": [
      "El color es verde\n"
     ]
    }
   ],
   "source": [
    "color = 'Verde'\n",
    "\n",
    "if color == 'Verde':\n",
    "    print(\"El color es verde\")\n",
    "else:\n",
    "    print('El color no es verde')"
   ]
  },
  {
   "cell_type": "code",
   "execution_count": 72,
   "id": "c960f106",
   "metadata": {},
   "outputs": [
    {
     "name": "stdout",
     "output_type": "stream",
     "text": [
      "El color no es verde\n"
     ]
    }
   ],
   "source": [
    "color = 'Rojo'\n",
    "\n",
    "if color == 'Verde':\n",
    "    print(\"El color es verde\")\n",
    "else:\n",
    "    print('El color no es verde')"
   ]
  },
  {
   "cell_type": "code",
   "execution_count": 73,
   "id": "5a3ac9bd",
   "metadata": {},
   "outputs": [
    {
     "name": "stdout",
     "output_type": "stream",
     "text": [
      "x es menor que y\n"
     ]
    }
   ],
   "source": [
    "x=5\n",
    "y=10\n",
    "\n",
    "if x == y:\n",
    "    print('Son iguales')\n",
    "elif x < y:\n",
    "    print('x es menor que y')\n",
    "else:\n",
    "    print('x es mayor que y')"
   ]
  },
  {
   "cell_type": "code",
   "execution_count": 74,
   "id": "c1e17d00",
   "metadata": {},
   "outputs": [
    {
     "name": "stdout",
     "output_type": "stream",
     "text": [
      "x es menor que y\n"
     ]
    }
   ],
   "source": [
    "x=5\n",
    "y=10\n",
    "\n",
    "if x == y:\n",
    "    print('Son iguales')\n",
    "\n",
    "elif x < y:\n",
    "    print('x es menor que y')\n",
    "    \n",
    "\n",
    "\n",
    "else:\n",
    "    print('x es mayor que y')"
   ]
  },
  {
   "cell_type": "markdown",
   "id": "34cce2e9",
   "metadata": {},
   "source": [
    "# Bucles"
   ]
  },
  {
   "cell_type": "markdown",
   "id": "e563d643",
   "metadata": {},
   "source": [
    "En python existen dos formas de iterar o generar un bucle: **for** o **while**. El bucle for o **for loop** iterará uno a uno los elementos contenidos de una lista. En el caso del **while loop** se iterará mientras la condición de permanencia se cumpla:"
   ]
  },
  {
   "cell_type": "markdown",
   "id": "7ceedb87",
   "metadata": {},
   "source": [
    "## For Loop - 'n' veces"
   ]
  },
  {
   "cell_type": "code",
   "execution_count": 75,
   "id": "8df738c5",
   "metadata": {},
   "outputs": [
    {
     "name": "stdout",
     "output_type": "stream",
     "text": [
      "0\n",
      "1\n",
      "2\n",
      "3\n",
      "4\n",
      "5\n",
      "6\n",
      "7\n",
      "8\n",
      "9\n"
     ]
    }
   ],
   "source": [
    "#hacer algo 10 veces\n",
    "for i in range(10): \n",
    "    #range(10) se interpreta como una lista [0,1,2,...,9], con 10 elementos, por lo cual pasará por el bucle 10 veces\n",
    "    print(i)\n",
    "    "
   ]
  },
  {
   "cell_type": "code",
   "execution_count": 76,
   "id": "e2fa5b82",
   "metadata": {},
   "outputs": [
    {
     "name": "stdout",
     "output_type": "stream",
     "text": [
      "0\n",
      "2\n",
      "4\n",
      "6\n",
      "8\n"
     ]
    }
   ],
   "source": [
    "for i in range(0,10,2): \n",
    "    print(i)"
   ]
  },
  {
   "cell_type": "markdown",
   "id": "96c3ca7e",
   "metadata": {},
   "source": [
    "Dentro del For Loop podemos hacer las operaciones que necesitemos"
   ]
  },
  {
   "cell_type": "code",
   "execution_count": 37,
   "id": "565b0764",
   "metadata": {},
   "outputs": [
    {
     "data": {
      "text/plain": [
       "[0, 2, 4, 6, 8]"
      ]
     },
     "execution_count": 37,
     "metadata": {},
     "output_type": "execute_result"
    }
   ],
   "source": [
    "list(range(0,10,2))"
   ]
  },
  {
   "cell_type": "code",
   "execution_count": 77,
   "id": "f7305f79",
   "metadata": {},
   "outputs": [
    {
     "name": "stdout",
     "output_type": "stream",
     "text": [
      "0\n",
      "4\n",
      "8\n",
      "12\n",
      "16\n"
     ]
    }
   ],
   "source": [
    "for i in range(0,10,2): \n",
    "    e = i*2\n",
    "    print(e)"
   ]
  },
  {
   "cell_type": "markdown",
   "id": "c0acbec2",
   "metadata": {},
   "source": [
    "## For loop - Listas"
   ]
  },
  {
   "cell_type": "code",
   "execution_count": 78,
   "id": "671b6323",
   "metadata": {
    "scrolled": true
   },
   "outputs": [
    {
     "name": "stdout",
     "output_type": "stream",
     "text": [
      "pepperoni\n",
      "hawaiana\n",
      "veggie\n"
     ]
    }
   ],
   "source": [
    "favorite_pizzas = ['pepperoni', 'hawaiana', 'veggie']\n",
    "\n",
    "# Imprime el nombre de las pizzas de la lista.\n",
    "for pizza in favorite_pizzas:\n",
    "    print(pizza)\n",
    "    "
   ]
  },
  {
   "cell_type": "code",
   "execution_count": 79,
   "id": "e8552a4c",
   "metadata": {},
   "outputs": [
    {
     "name": "stdout",
     "output_type": "stream",
     "text": [
      "0 pepperoni\n",
      "1 hawaiana\n",
      "2 veggie\n"
     ]
    }
   ],
   "source": [
    "favorite_pizzas = ['pepperoni', 'hawaiana', 'veggie']\n",
    "\n",
    "# Imprime el nombre de las pizzas de la lista.\n",
    "for i, pizza in  enumerate(favorite_pizzas):\n",
    "    print(i, pizza)"
   ]
  },
  {
   "cell_type": "markdown",
   "id": "3e33621d",
   "metadata": {},
   "source": [
    "## While"
   ]
  },
  {
   "cell_type": "code",
   "execution_count": 80,
   "id": "51da2a0b",
   "metadata": {},
   "outputs": [
    {
     "name": "stdout",
     "output_type": "stream",
     "text": [
      "La suma es 0\n",
      "La suma es 1\n",
      "La suma es 3\n",
      "La suma es 6\n",
      "La suma es 10\n",
      "La suma es 15\n",
      "La suma es 21\n",
      "La suma es 28\n",
      "La suma es 36\n",
      "La suma es 45\n",
      "La suma es 55\n"
     ]
    }
   ],
   "source": [
    "numero, suma = 0,0\n",
    "\n",
    "while numero <= 10:\n",
    "    suma = numero + suma\n",
    "    numero = numero + 1\n",
    "    print (\"La suma es \" + str(suma))\n"
   ]
  },
  {
   "cell_type": "code",
   "execution_count": 81,
   "id": "c33dc291",
   "metadata": {},
   "outputs": [
    {
     "name": "stdout",
     "output_type": "stream",
     "text": [
      "pepperoni\n",
      "hawaiana\n",
      "veggie\n"
     ]
    }
   ],
   "source": [
    "favorite_pizzas = ['pepperoni', 'hawaiana', 'veggie']\n",
    "\n",
    "i = 0\n",
    "# Imprime el nombre de las pizzas de la lista.\n",
    "while i < len(favorite_pizzas):\n",
    "    print(favorite_pizzas[i])\n",
    "    i += 1"
   ]
  },
  {
   "cell_type": "markdown",
   "id": "b1c4d0a5",
   "metadata": {},
   "source": [
    "La instrucción **break** es importante para poder salir de un bucle, veamos el siguiente ejemplo:"
   ]
  },
  {
   "cell_type": "code",
   "execution_count": 82,
   "id": "d589dbba",
   "metadata": {},
   "outputs": [
    {
     "name": "stdout",
     "output_type": "stream",
     "text": [
      "Estamos interando 0\n",
      "Estamos interando 1\n",
      "Estamos interando 2\n",
      "Estamos interando 3\n",
      "Estamos interando 4\n",
      "Estamos interando 5\n",
      "Estamos interando 6\n",
      "Estamos interando 7\n",
      "Estamos interando 8\n"
     ]
    }
   ],
   "source": [
    "for i in range(10):\n",
    "    print(\"Estamos interando {}\".format(i))\n",
    "    if i == 8:\n",
    "        break"
   ]
  },
  {
   "cell_type": "code",
   "execution_count": 83,
   "id": "05cc749f",
   "metadata": {},
   "outputs": [
    {
     "name": "stdout",
     "output_type": "stream",
     "text": [
      "0\n",
      "1\n",
      "2\n",
      "3\n",
      "4\n",
      "5\n",
      "6\n",
      "7\n",
      "8\n",
      "9\n"
     ]
    }
   ],
   "source": [
    "i=0\n",
    "while True: #Hace algo infinitamente. Solo para demostrar, no es conveniente utilizarlo así.\n",
    "            #Debemos poner una condición válida\n",
    "    \n",
    "    print(i)\n",
    "    i+=1\n",
    "    if i==10:\n",
    "        break #con el break salimos del ciclo"
   ]
  },
  {
   "cell_type": "markdown",
   "id": "34e4ae35",
   "metadata": {},
   "source": [
    "Mezclando condicionales y loops obtenemos herramientas poderosas:"
   ]
  },
  {
   "cell_type": "code",
   "execution_count": 84,
   "id": "6955ecf3",
   "metadata": {},
   "outputs": [
    {
     "name": "stdout",
     "output_type": "stream",
     "text": [
      "0\n",
      "4\n",
      "16\n",
      "36\n",
      "64\n",
      "100\n",
      "144\n",
      "196\n",
      "256\n",
      "324\n",
      "400\n",
      "484\n",
      "576\n",
      "676\n",
      "784\n",
      "900\n",
      "1024\n",
      "1156\n",
      "1296\n",
      "1444\n",
      "1600\n",
      "1764\n",
      "1936\n",
      "2116\n",
      "2304\n",
      "2500\n",
      "2704\n",
      "2916\n",
      "3136\n",
      "3364\n",
      "3600\n",
      "3844\n",
      "4096\n",
      "4356\n",
      "4624\n",
      "4900\n",
      "5184\n",
      "5476\n",
      "5776\n",
      "6084\n",
      "6400\n",
      "6724\n",
      "7056\n",
      "7396\n",
      "7744\n",
      "8100\n",
      "8464\n",
      "8836\n",
      "9216\n",
      "9604\n",
      "10000\n",
      "10404\n",
      "10816\n",
      "11236\n",
      "11664\n",
      "12100\n",
      "12544\n",
      "12996\n",
      "13456\n",
      "13924\n",
      "14400\n",
      "14884\n",
      "15376\n",
      "15876\n",
      "16384\n",
      "16900\n",
      "17424\n",
      "17956\n",
      "18496\n",
      "19044\n",
      "19600\n",
      "20164\n",
      "20736\n",
      "21316\n",
      "21904\n",
      "22500\n",
      "23104\n",
      "23716\n",
      "24336\n",
      "24964\n",
      "25600\n",
      "26244\n",
      "26896\n",
      "27556\n",
      "28224\n",
      "28900\n",
      "29584\n",
      "30276\n",
      "30976\n",
      "31684\n",
      "32400\n",
      "33124\n",
      "33856\n",
      "34596\n",
      "35344\n",
      "36100\n",
      "36864\n",
      "37636\n",
      "38416\n",
      "39204\n",
      "40000\n",
      "40804\n",
      "41616\n",
      "42436\n",
      "43264\n",
      "44100\n",
      "44944\n",
      "45796\n",
      "46656\n",
      "47524\n",
      "48400\n",
      "49284\n",
      "50176\n",
      "51076\n",
      "51984\n",
      "52900\n",
      "53824\n",
      "54756\n",
      "55696\n",
      "56644\n",
      "57600\n",
      "58564\n",
      "59536\n",
      "60516\n",
      "61504\n",
      "62500\n",
      "63504\n",
      "64516\n",
      "65536\n",
      "66564\n",
      "67600\n",
      "68644\n",
      "69696\n",
      "70756\n",
      "71824\n",
      "72900\n",
      "73984\n",
      "75076\n",
      "76176\n",
      "77284\n",
      "78400\n",
      "79524\n",
      "80656\n",
      "81796\n",
      "82944\n",
      "84100\n",
      "85264\n",
      "86436\n",
      "87616\n",
      "88804\n",
      "90000\n",
      "91204\n",
      "92416\n",
      "93636\n",
      "94864\n",
      "96100\n",
      "97344\n",
      "98596\n",
      "99856\n",
      "101124\n",
      "102400\n",
      "103684\n",
      "104976\n",
      "106276\n",
      "107584\n",
      "108900\n",
      "110224\n",
      "111556\n",
      "112896\n",
      "114244\n",
      "115600\n",
      "116964\n",
      "118336\n",
      "119716\n",
      "121104\n",
      "122500\n",
      "123904\n",
      "125316\n",
      "126736\n",
      "128164\n",
      "129600\n",
      "131044\n",
      "132496\n",
      "133956\n",
      "135424\n",
      "136900\n",
      "138384\n",
      "139876\n",
      "141376\n",
      "142884\n",
      "144400\n",
      "145924\n",
      "147456\n",
      "148996\n",
      "150544\n",
      "152100\n",
      "153664\n",
      "155236\n",
      "156816\n",
      "158404\n",
      "160000\n",
      "161604\n",
      "163216\n",
      "164836\n",
      "166464\n",
      "168100\n",
      "169744\n",
      "171396\n",
      "173056\n",
      "174724\n",
      "176400\n",
      "178084\n",
      "179776\n",
      "181476\n",
      "183184\n",
      "184900\n",
      "186624\n",
      "188356\n",
      "190096\n",
      "191844\n",
      "193600\n",
      "195364\n",
      "197136\n",
      "198916\n",
      "200704\n",
      "202500\n",
      "204304\n",
      "206116\n",
      "207936\n",
      "209764\n",
      "211600\n",
      "213444\n",
      "215296\n",
      "217156\n",
      "219024\n",
      "220900\n",
      "222784\n",
      "224676\n",
      "226576\n",
      "228484\n",
      "230400\n",
      "232324\n",
      "234256\n",
      "236196\n",
      "238144\n",
      "240100\n",
      "242064\n",
      "244036\n",
      "246016\n",
      "248004\n",
      "250000\n",
      "252004\n",
      "254016\n",
      "256036\n",
      "258064\n",
      "260100\n",
      "262144\n",
      "264196\n",
      "266256\n",
      "268324\n",
      "270400\n",
      "272484\n",
      "274576\n",
      "276676\n",
      "278784\n",
      "280900\n",
      "283024\n",
      "285156\n",
      "287296\n",
      "289444\n",
      "291600\n",
      "293764\n",
      "295936\n",
      "298116\n",
      "300304\n",
      "302500\n",
      "304704\n",
      "306916\n",
      "309136\n",
      "311364\n",
      "313600\n",
      "315844\n",
      "318096\n",
      "320356\n",
      "322624\n",
      "324900\n",
      "327184\n",
      "329476\n",
      "331776\n",
      "334084\n",
      "336400\n",
      "338724\n",
      "341056\n",
      "343396\n",
      "345744\n",
      "348100\n",
      "350464\n",
      "352836\n",
      "355216\n",
      "357604\n",
      "360000\n",
      "362404\n",
      "364816\n",
      "367236\n",
      "369664\n",
      "372100\n",
      "374544\n",
      "376996\n",
      "379456\n",
      "381924\n",
      "384400\n",
      "386884\n",
      "389376\n",
      "391876\n",
      "394384\n",
      "396900\n",
      "399424\n",
      "401956\n",
      "404496\n",
      "407044\n",
      "409600\n",
      "412164\n",
      "414736\n",
      "417316\n",
      "419904\n",
      "422500\n",
      "425104\n",
      "427716\n",
      "430336\n",
      "432964\n",
      "435600\n",
      "438244\n",
      "440896\n",
      "443556\n",
      "446224\n",
      "448900\n",
      "451584\n",
      "454276\n",
      "456976\n",
      "459684\n",
      "462400\n",
      "465124\n",
      "467856\n",
      "470596\n",
      "473344\n",
      "476100\n",
      "478864\n",
      "481636\n",
      "484416\n",
      "487204\n",
      "490000\n",
      "492804\n",
      "495616\n",
      "498436\n",
      "501264\n",
      "504100\n",
      "506944\n",
      "509796\n",
      "512656\n",
      "515524\n",
      "518400\n",
      "521284\n",
      "524176\n",
      "527076\n",
      "529984\n",
      "532900\n",
      "535824\n",
      "538756\n",
      "541696\n",
      "544644\n",
      "547600\n",
      "550564\n",
      "553536\n",
      "556516\n",
      "559504\n",
      "562500\n",
      "565504\n",
      "568516\n",
      "571536\n",
      "574564\n",
      "577600\n",
      "580644\n",
      "583696\n",
      "586756\n",
      "589824\n",
      "592900\n",
      "595984\n",
      "599076\n",
      "602176\n",
      "605284\n",
      "608400\n",
      "611524\n",
      "614656\n",
      "617796\n",
      "620944\n",
      "624100\n",
      "627264\n",
      "630436\n",
      "633616\n",
      "636804\n",
      "640000\n",
      "643204\n",
      "646416\n",
      "649636\n",
      "652864\n",
      "656100\n",
      "659344\n",
      "662596\n",
      "665856\n",
      "669124\n",
      "672400\n",
      "675684\n",
      "678976\n",
      "682276\n",
      "685584\n",
      "688900\n",
      "692224\n",
      "695556\n",
      "698896\n",
      "702244\n",
      "705600\n",
      "708964\n",
      "712336\n",
      "715716\n",
      "719104\n",
      "722500\n",
      "725904\n",
      "729316\n",
      "732736\n",
      "736164\n",
      "739600\n",
      "743044\n",
      "746496\n",
      "749956\n",
      "753424\n",
      "756900\n",
      "760384\n",
      "763876\n",
      "767376\n",
      "770884\n",
      "774400\n",
      "777924\n",
      "781456\n",
      "784996\n",
      "788544\n",
      "792100\n",
      "795664\n",
      "799236\n",
      "802816\n",
      "806404\n",
      "810000\n",
      "813604\n",
      "817216\n",
      "820836\n",
      "824464\n",
      "828100\n",
      "831744\n",
      "835396\n",
      "839056\n",
      "842724\n",
      "846400\n",
      "850084\n",
      "853776\n",
      "857476\n",
      "861184\n",
      "864900\n",
      "868624\n",
      "872356\n",
      "876096\n",
      "879844\n",
      "883600\n",
      "887364\n",
      "891136\n",
      "894916\n",
      "898704\n",
      "902500\n",
      "906304\n",
      "910116\n",
      "913936\n",
      "917764\n",
      "921600\n",
      "925444\n",
      "929296\n",
      "933156\n",
      "937024\n",
      "940900\n",
      "944784\n",
      "948676\n",
      "952576\n",
      "956484\n",
      "960400\n",
      "964324\n",
      "968256\n",
      "972196\n",
      "976144\n",
      "980100\n",
      "984064\n",
      "988036\n",
      "992016\n",
      "996004\n"
     ]
    }
   ],
   "source": [
    "lis = range(1000)\n",
    "\n",
    "for i in lis:\n",
    "    if i % 2 == 0:\n",
    "        print(i**2)"
   ]
  },
  {
   "cell_type": "markdown",
   "id": "b3a52a1a",
   "metadata": {},
   "source": [
    "Elevamos al cuadrado los primeros 1000 números pares"
   ]
  },
  {
   "cell_type": "markdown",
   "id": "f62a280d",
   "metadata": {},
   "source": [
    "# Funciones"
   ]
  },
  {
   "cell_type": "markdown",
   "id": "16a49548",
   "metadata": {},
   "source": [
    "**Python** como la mayoría de los lenguajes en general ofrece la posibilidad de encapsular código para hacerlo reutilizable. Una función es un fragmento de código que tiene un nombre y realiza una tarea específica. Se utiliza la palabra **def** para definir una función, los argumentos o valores de entrada que recibe una función van entre **()**. Una función puede devolver un valor, para esta funcionalidad se agrega la palabra **return**"
   ]
  },
  {
   "cell_type": "code",
   "execution_count": 85,
   "id": "17254bc8",
   "metadata": {},
   "outputs": [
    {
     "data": {
      "text/plain": [
       "13"
      ]
     },
     "execution_count": 85,
     "metadata": {},
     "output_type": "execute_result"
    }
   ],
   "source": [
    "def suma_cuadrados(x, y):\n",
    "    \"\"\"\n",
    "    Recibe dos números y \n",
    "    devuelve la suma luego de elevarlos al cuadrado\n",
    "    x\n",
    "    y\n",
    "    \n",
    "    \"\"\"\n",
    "    \n",
    "    x = x**2\n",
    "    y = y**2\n",
    "    \n",
    "    return (x + y)\n",
    "\n",
    "suma_cuadrados(2,3)"
   ]
  },
  {
   "cell_type": "code",
   "execution_count": 86,
   "id": "85c486c5",
   "metadata": {},
   "outputs": [
    {
     "name": "stdout",
     "output_type": "stream",
     "text": [
      "Santiago, Chile\n",
      "Ushuaia, Argentina\n",
      "Longyearbyen, Svalbard\n"
     ]
    }
   ],
   "source": [
    "def ciudad_pais(city, country):\n",
    "    \"\"\"Retorna un string con \n",
    "    la primera palabra en Masyuc.\n",
    "    \"\"\"\n",
    "    return(city.title() + \", \" + country.title())\n",
    "\n",
    "city = ciudad_pais('santiago', 'chile')\n",
    "print(city)\n",
    "\n",
    "city = ciudad_pais('ushuaia', 'argentina')\n",
    "print(city)\n",
    "\n",
    "city = ciudad_pais('longyearbyen', 'svalbard')\n",
    "print(city)"
   ]
  },
  {
   "cell_type": "code",
   "execution_count": null,
   "id": "ae0bd9cb",
   "metadata": {},
   "outputs": [],
   "source": []
  },
  {
   "cell_type": "code",
   "execution_count": 40,
   "id": "76b01385",
   "metadata": {},
   "outputs": [
    {
     "name": "stdout",
     "output_type": "stream",
     "text": [
      "No se puede dividir por 0\n"
     ]
    }
   ],
   "source": [
    "a=1\n",
    "b=0\n",
    "try:\n",
    "    c=a/b\n",
    "except ZeroDivisionError:\n",
    "    print('No se puede dividir por 0')\n",
    "      "
   ]
  },
  {
   "cell_type": "code",
   "execution_count": null,
   "id": "fc0a7e6e",
   "metadata": {},
   "outputs": [],
   "source": []
  },
  {
   "cell_type": "code",
   "execution_count": 41,
   "id": "fa08cda4",
   "metadata": {},
   "outputs": [
    {
     "ename": "Exception",
     "evalue": "No se puede dividir por 0",
     "output_type": "error",
     "traceback": [
      "\u001b[1;31m---------------------------------------------------------------------------\u001b[0m",
      "\u001b[1;31mException\u001b[0m                                 Traceback (most recent call last)",
      "\u001b[1;32m<ipython-input-41-1071009955a7>\u001b[0m in \u001b[0;36m<module>\u001b[1;34m\u001b[0m\n\u001b[0;32m      1\u001b[0m \u001b[1;32mif\u001b[0m \u001b[0mb\u001b[0m\u001b[1;33m==\u001b[0m\u001b[1;36m0\u001b[0m\u001b[1;33m:\u001b[0m\u001b[1;33m\u001b[0m\u001b[1;33m\u001b[0m\u001b[0m\n\u001b[1;32m----> 2\u001b[1;33m     \u001b[1;32mraise\u001b[0m \u001b[0mException\u001b[0m\u001b[1;33m(\u001b[0m\u001b[1;34m'No se puede dividir por 0'\u001b[0m\u001b[1;33m)\u001b[0m\u001b[1;33m\u001b[0m\u001b[1;33m\u001b[0m\u001b[0m\n\u001b[0m",
      "\u001b[1;31mException\u001b[0m: No se puede dividir por 0"
     ]
    }
   ],
   "source": [
    "if b==0:\n",
    "    raise Exception('No se puede dividir por 0')"
   ]
  }
 ],
 "metadata": {
  "kernelspec": {
   "display_name": "Python 3",
   "language": "python",
   "name": "python3"
  },
  "language_info": {
   "codemirror_mode": {
    "name": "ipython",
    "version": 3
   },
   "file_extension": ".py",
   "mimetype": "text/x-python",
   "name": "python",
   "nbconvert_exporter": "python",
   "pygments_lexer": "ipython3",
   "version": "3.8.8"
  }
 },
 "nbformat": 4,
 "nbformat_minor": 5
}
