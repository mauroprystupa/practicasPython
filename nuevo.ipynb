{
 "cells": [
  {
   "cell_type": "code",
   "execution_count": 3,
   "metadata": {},
   "outputs": [
    {
     "name": "stdout",
     "output_type": "stream",
     "text": [
      "el primer numero es impar, el segundo es par\n",
      "--------------------------------------- fin del programa ---------------------------------------\n"
     ]
    }
   ],
   "source": [
    "#ejercicio 1\n",
    "# Hacer un programa que pida 2 numero y se de cuenta cual de ellos es par, o si ambos lo son.\n",
    "\n",
    "numero1 = int(input('dame un numero'))\n",
    "numero2 = int(input('dame otro numero'))\n",
    "\n",
    "if numero1 % 2 == 0 and numero2 % 2 == 0 :\n",
    "    print('ambos numeros son pares')\n",
    "elif numero1 % 2 != 0 and numero2 % 2 == 0 :\n",
    "    print('el primer numero es impar, el segundo es par')\n",
    "elif numero1 % 2 == 0 and numero2 % 2 != 0 :\n",
    "    print('el segundo numero es impar, el primero es par')\n",
    "elif numero1 % 2 == 0 and numero2 % 2 != 0 :\n",
    "    print('ambos numeros son impares')\n",
    "\n",
    "print('--------------------------------------- fin del programa ---------------------------------------')\n",
    "\n",
    "\n",
    " \n",
    "    "
   ]
  },
  {
   "cell_type": "code",
   "execution_count": null,
   "metadata": {},
   "outputs": [],
   "source": [
    "\n"
   ]
  }
 ],
 "metadata": {
  "interpreter": {
   "hash": "2fbe6249195876df7d3f868cc3125411787a62804bfa9789f477fd9e39d26a53"
  },
  "kernelspec": {
   "display_name": "Python 3.9.7 64-bit ('base': conda)",
   "language": "python",
   "name": "python3"
  },
  "language_info": {
   "codemirror_mode": {
    "name": "ipython",
    "version": 3
   },
   "file_extension": ".py",
   "mimetype": "text/x-python",
   "name": "python",
   "nbconvert_exporter": "python",
   "pygments_lexer": "ipython3",
   "version": "3.9.7"
  },
  "orig_nbformat": 4
 },
 "nbformat": 4,
 "nbformat_minor": 2
}
