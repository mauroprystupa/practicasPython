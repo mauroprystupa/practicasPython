{
 "cells": [
  {
   "cell_type": "markdown",
   "metadata": {},
   "source": [
    "## Ejercicios Python"
   ]
  },
  {
   "cell_type": "markdown",
   "metadata": {},
   "source": [
    "1. Escribe un programa en Python que imprima los primeros 100 números enteros naturales (1...100)\n"
   ]
  },
  {
   "cell_type": "code",
   "execution_count": null,
   "metadata": {},
   "outputs": [],
   "source": []
  },
  {
   "cell_type": "markdown",
   "metadata": {},
   "source": [
    "2. Escribe un programa en Python que invierta una cadena de texto"
   ]
  },
  {
   "cell_type": "code",
   "execution_count": null,
   "metadata": {},
   "outputs": [],
   "source": []
  },
  {
   "cell_type": "markdown",
   "metadata": {},
   "source": [
    "3. Escribe un programa en Python que muestre el primer y el último color de la siguiente lista. \n",
    "lista_de_colores = [\"Rojo\", \"Verde\", \"Blanco\" , \"Negro\"]"
   ]
  },
  {
   "cell_type": "code",
   "execution_count": null,
   "metadata": {},
   "outputs": [],
   "source": []
  },
  {
   "cell_type": "markdown",
   "metadata": {},
   "source": [
    "4. Escribe un programa en Python que acepte un entero (n) y calcule el valor del cuadrado de n (n x n)"
   ]
  },
  {
   "cell_type": "code",
   "execution_count": null,
   "metadata": {},
   "outputs": [],
   "source": []
  },
  {
   "cell_type": "markdown",
   "metadata": {},
   "source": [
    "5. Escriba un programa en Python para calcular el valor futuro de una cantidad principal especificada, un tipo de interés y un número de años.\n",
    "\n",
    "La fórmula del valor futuro con interés compuesto es VF = C(1 + r)^t\n",
    "\n",
    "FV = el valor futuro;\n",
    "\n",
    "C = el capital;\n",
    "\n",
    "r = el tipo de interés anual expresado en decimales;\n",
    "\n",
    "n = el número de veces que se pagan los intereses cada año;\n",
    "\n",
    "t = tiempo en años."
   ]
  },
  {
   "cell_type": "code",
   "execution_count": null,
   "metadata": {},
   "outputs": [],
   "source": []
  },
  {
   "cell_type": "markdown",
   "metadata": {},
   "source": [
    "6. Escribe una función Python para calcular la suma de tres números dados, si los valores son iguales entonces devuelve el triple de su suma."
   ]
  },
  {
   "cell_type": "code",
   "execution_count": null,
   "metadata": {},
   "outputs": [],
   "source": []
  },
  {
   "cell_type": "markdown",
   "metadata": {},
   "source": [
    "7. Escribe una función en Python para calcular el impuesto a las ganancias de un sueldo, considerando que se cobra un 35% sobre el excedente de sueldo mayor $150.000 bruto"
   ]
  },
  {
   "cell_type": "code",
   "execution_count": null,
   "metadata": {},
   "outputs": [],
   "source": []
  },
  {
   "cell_type": "markdown",
   "metadata": {},
   "source": [
    "---"
   ]
  },
  {
   "cell_type": "markdown",
   "metadata": {},
   "source": [
    "# Soluciones"
   ]
  },
  {
   "cell_type": "code",
   "execution_count": null,
   "metadata": {
    "scrolled": true
   },
   "outputs": [],
   "source": [
    "#1\n",
    "\n",
    "for i in range(1,101): #No incluye al 101\n",
    "    print(i)"
   ]
  },
  {
   "cell_type": "code",
   "execution_count": null,
   "metadata": {},
   "outputs": [],
   "source": [
    "#2\n",
    "string = \"Hola\"\n",
    "string_invertido = string [::-1] #[comienzo:final:paso], al omitir \"comienzo\" y \"final\" tomamos todo el string\n",
    "                                # y el -1 recorre en sentido contrario\n",
    "print(string_invertido)"
   ]
  },
  {
   "cell_type": "code",
   "execution_count": null,
   "metadata": {},
   "outputs": [],
   "source": [
    "#3\n",
    "lista_de_colores = [\"Rojo\", \"Verde\", \"Blanco\" , \"Negro\"]\n",
    "print(lista_de_colores[0])\n",
    "print(lista_de_colores[-1])"
   ]
  },
  {
   "cell_type": "code",
   "execution_count": null,
   "metadata": {},
   "outputs": [],
   "source": [
    "#4\n",
    "def cuadrado(n):\n",
    "    return n*n\n"
   ]
  },
  {
   "cell_type": "code",
   "execution_count": null,
   "metadata": {},
   "outputs": [],
   "source": [
    "#5\n",
    "capital = 10000\n",
    "interes = 17 * 0.01 # 17%\n",
    "anios = 7\n",
    "valor_futuro = capital*(1+interes) ** anios\n",
    "\n",
    "print(round(valor_futuro,2)) #Redondeamos a 2 cifras decimales\n",
    "\n",
    "#Tambien se podria crear una funcion. Ej: def valor_futuro(capital,interes,anios)"
   ]
  },
  {
   "cell_type": "code",
   "execution_count": null,
   "metadata": {},
   "outputs": [],
   "source": [
    "#6\n",
    "def suma_especial(x,y,z):\n",
    "    suma = x + y+ z #Definimos una variable interna de la funcion\n",
    "    \n",
    "    if x == y == z: #Equivalente a: x == y and y==z\n",
    "        return suma*3\n",
    "    else:\n",
    "        return suma\n",
    "\n",
    "suma_especial(4,3,3)"
   ]
  },
  {
   "cell_type": "code",
   "execution_count": null,
   "metadata": {},
   "outputs": [],
   "source": [
    "#7\n",
    "def calculadora_ganancias(sueldo):\n",
    "    if sueldo<0:\n",
    "        print(\"Por favor ingrese un sueldo correcto\")\n",
    "    \n",
    "    elif sueldo<=150000:\n",
    "        return 0\n",
    "    \n",
    "    else:\n",
    "        excedente = sueldo - 150000\n",
    "        ganancias = excedente * 0.35\n",
    "        return ganancias"
   ]
  }
 ],
 "metadata": {
  "kernelspec": {
   "display_name": "Python 3",
   "language": "python",
   "name": "python3"
  },
  "language_info": {
   "codemirror_mode": {
    "name": "ipython",
    "version": 3
   },
   "file_extension": ".py",
   "mimetype": "text/x-python",
   "name": "python",
   "nbconvert_exporter": "python",
   "pygments_lexer": "ipython3",
   "version": "3.7.3"
  }
 },
 "nbformat": 4,
 "nbformat_minor": 5
}
